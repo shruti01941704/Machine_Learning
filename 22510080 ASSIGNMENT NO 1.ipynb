{
  "nbformat": 4,
  "nbformat_minor": 0,
  "metadata": {
    "colab": {
      "provenance": []
    },
    "kernelspec": {
      "name": "python3",
      "display_name": "Python 3"
    },
    "language_info": {
      "name": "python"
    }
  },
  "cells": [
    {
      "cell_type": "code",
      "execution_count": 29,
      "metadata": {
        "id": "zUdXimIbEtGe"
      },
      "outputs": [],
      "source": [
        "import numpy as np\n",
        "from matplotlib import pyplot as plt\n",
        "from scipy.stats import norm\n",
        "import pandas as pd\n",
        "import math\n",
        "\n",
        "male_mean = 166\n",
        "male_std = 5\n",
        "female_mean = 152\n",
        "female_std = 5\n",
        "\n",
        "num_samples = 1000\n",
        "\n",
        "male_heights = pd.Series(np.random.normal(male_mean, male_std, num_samples), name=\"Height\")\n",
        "female_heights = pd.Series(np.random.normal(female_mean, female_std, num_samples), name=\"Height\")"
      ]
    },
    {
      "cell_type": "markdown",
      "source": [],
      "metadata": {
        "id": "X_1OW0R3Gfu9"
      }
    },
    {
      "cell_type": "code",
      "source": [
        "from scipy.stats import norm\n",
        "\n",
        "male_missclassified = 0\n",
        "female_missclassified = 0\n",
        "\n",
        "for x in male_heights:\n",
        "    male_prob = norm.pdf(x, male_mean, male_std)\n",
        "    female_prob = norm.pdf(x, female_mean, female_std)\n",
        "\n",
        "    if male_prob < female_prob:\n",
        "        male_missclassified += 1\n",
        "\n",
        "for x in female_heights:\n",
        "    male_prob = norm.pdf(x, male_mean, male_std)\n",
        "    female_prob = norm.pdf(x, female_mean, female_std)\n",
        "\n",
        "    if male_prob > female_prob:\n",
        "        female_missclassified += 1\n",
        "\n",
        "print(f\"Male misclassified: {male_missclassified}\")\n",
        "print(f\"Female misclassified: {female_missclassified}\")\n"
      ],
      "metadata": {
        "id": "t4bMUSwQKEpW",
        "colab": {
          "base_uri": "https://localhost:8080/"
        },
        "outputId": "1659d8de-9c9a-4c75-d0b0-6fa4c760f180"
      },
      "execution_count": 30,
      "outputs": [
        {
          "output_type": "stream",
          "name": "stdout",
          "text": [
            "Male misclassified: 74\n",
            "Female misclassified: 71\n"
          ]
        }
      ]
    },
    {
      "cell_type": "markdown",
      "source": [
        "Q 1.c.ii > Derive a threshold hight to separate male female"
      ],
      "metadata": {
        "id": "M3pqEv4cOJkb"
      }
    },
    {
      "cell_type": "code",
      "source": [
        "overlap_min_male_height = male_heights.min()\n",
        "step = 0.5\n",
        "overlap_max_female_height = female_heights.max()\n",
        "floored_minheight = math.floor(overlap_min_male_height)\n",
        "floored_maxheight = math.ceil(overlap_max_female_height)\n",
        "min_rate = 100\n",
        "opt_threshold=0\n",
        "\n",
        "for threshold in   np.arange(floored_minheight, floored_maxheight + step, step):\n",
        "\n",
        "  num_misclassfied_fems =  np.sum(female_heights>threshold)\n",
        "  num_misclassfied_male = np.sum(male_heights<threshold)\n",
        "  curr_rate= ( (num_misclassfied_fems+num_misclassfied_male)*100)/2000\n",
        "\n",
        "  if(curr_rate < min_rate) :\n",
        "      min_rate = curr_rate\n",
        "      opt_threshold = threshold\n",
        "\n",
        "print(opt_threshold)"
      ],
      "metadata": {
        "colab": {
          "base_uri": "https://localhost:8080/"
        },
        "id": "YNE70YTvMln2",
        "outputId": "8e40d6a4-7c2d-4821-e3a7-d6e37d993a28"
      },
      "execution_count": 31,
      "outputs": [
        {
          "output_type": "stream",
          "name": "stdout",
          "text": [
            "158.5\n"
          ]
        }
      ]
    },
    {
      "cell_type": "markdown",
      "source": [
        "QC III"
      ],
      "metadata": {
        "id": "h7JdLcJXOEYw"
      }
    },
    {
      "cell_type": "code",
      "source": [
        "step_size = 0.5\n",
        "male_group = ((male_heights / step_size).astype(int))\n",
        "female_group = ((female_heights / step_size).astype(int))\n",
        "\n",
        "# Count occurrences of each bin for males and females\n",
        "male_distribution = male_group.value_counts().sort_values()\n",
        "female_distribution = female_group.value_counts().sort_values()\n",
        "\n",
        "# Find common bins between male and female height distributions\n",
        "overlapping_bins = set(male_group) & set(female_group)\n",
        "common_bins = pd.Series(list(overlapping_bins)).sort_values()\n",
        "\n",
        "# Initialize variables to track the minimum error rate and optimal bin\n",
        "min_error_rate = 100\n",
        "best_bin = 0\n",
        "\n",
        "# Iterate through common bins to find the one with the least error rate\n",
        "for bin_value in common_bins:\n",
        "    male_count = male_distribution.get(bin_value, 0)\n",
        "    female_count = female_distribution.get(bin_value, 0)\n",
        "    current_error_rate = ((male_count + female_count) * 100) / 2000\n",
        "\n",
        "    print(f\"Male count: {male_count} | Female count: {female_count} | Error rate: {current_error_rate} for bin {bin_value}\")\n",
        "\n",
        "    if current_error_rate < min_error_rate:\n",
        "        min_error_rate = current_error_rate\n",
        "        best_bin = bin_value\n",
        "\n",
        "print(f\"Optimal bin: {best_bin} with the minimum error rate: {min_error_rate}\")\n"
      ],
      "metadata": {
        "colab": {
          "base_uri": "https://localhost:8080/"
        },
        "id": "FSb7YIvYNK6q",
        "outputId": "aaf9ddf7-ecd8-449b-b094-9d3da8ad3843"
      },
      "execution_count": 36,
      "outputs": [
        {
          "output_type": "stream",
          "name": "stdout",
          "text": [
            "Male count: 1 | Female count: 42 | Error rate: 2.15 for bin 304\n",
            "Male count: 4 | Female count: 43 | Error rate: 2.35 for bin 306\n",
            "Male count: 1 | Female count: 44 | Error rate: 2.25 for bin 309\n",
            "Male count: 4 | Female count: 30 | Error rate: 1.7 for bin 310\n",
            "Male count: 1 | Female count: 32 | Error rate: 1.65 for bin 311\n",
            "Male count: 8 | Female count: 26 | Error rate: 1.7 for bin 312\n",
            "Male count: 7 | Female count: 26 | Error rate: 1.65 for bin 313\n",
            "Male count: 8 | Female count: 22 | Error rate: 1.5 for bin 314\n",
            "Male count: 11 | Female count: 14 | Error rate: 1.25 for bin 315\n",
            "Male count: 8 | Female count: 18 | Error rate: 1.3 for bin 316\n",
            "Male count: 21 | Female count: 16 | Error rate: 1.85 for bin 317\n",
            "Male count: 16 | Female count: 12 | Error rate: 1.4 for bin 318\n",
            "Male count: 19 | Female count: 8 | Error rate: 1.35 for bin 319\n",
            "Male count: 28 | Female count: 8 | Error rate: 1.8 for bin 320\n",
            "Male count: 18 | Female count: 6 | Error rate: 1.2 for bin 321\n",
            "Male count: 23 | Female count: 7 | Error rate: 1.5 for bin 322\n",
            "Male count: 26 | Female count: 3 | Error rate: 1.45 for bin 323\n",
            "Male count: 30 | Female count: 4 | Error rate: 1.7 for bin 324\n",
            "Male count: 32 | Female count: 6 | Error rate: 1.9 for bin 325\n",
            "Male count: 36 | Female count: 5 | Error rate: 2.05 for bin 326\n",
            "Male count: 30 | Female count: 2 | Error rate: 1.6 for bin 327\n",
            "Male count: 34 | Female count: 4 | Error rate: 1.9 for bin 328\n",
            "Male count: 39 | Female count: 1 | Error rate: 2.0 for bin 329\n",
            "Male count: 37 | Female count: 3 | Error rate: 2.0 for bin 330\n",
            "Male count: 49 | Female count: 1 | Error rate: 2.5 for bin 332\n",
            "Male count: 44 | Female count: 1 | Error rate: 2.25 for bin 334\n",
            "Optimal bin: 321 with the minimum error rate: 1.2\n"
          ]
        }
      ]
    },
    {
      "cell_type": "markdown",
      "source": [
        "Q3 A For SD = 2.5"
      ],
      "metadata": {
        "id": "pReNFrgVN_gk"
      }
    },
    {
      "cell_type": "code",
      "source": [
        "import numpy as np\n",
        "import pandas as pd\n",
        "import math\n",
        "\n",
        "mean_male_height = 166\n",
        "std_male_height = 2.5\n",
        "mean_female_height = 152\n",
        "std_female_height = 2.5\n",
        "\n",
        "sample_size = 1000\n",
        "\n",
        "male_height_series = pd.Series(np.random.normal(mean_male_height, std_male_height, sample_size), name=\"Height\")\n",
        "female_height_series = pd.Series(np.random.normal(mean_female_height, std_female_height, sample_size), name=\"Height\")"
      ],
      "metadata": {
        "id": "SQ4l_RNANxQO"
      },
      "execution_count": 42,
      "outputs": []
    },
    {
      "cell_type": "code",
      "source": [
        "from scipy.stats import norm\n",
        "\n",
        "misclassified_males = 0\n",
        "misclassified_females = 0\n",
        "\n",
        "for height in male_height_series:\n",
        "    male_probability = norm.pdf(height, mean_male_height, std_male_height)\n",
        "    female_probability = norm.pdf(height, mean_female_height, std_female_height)\n",
        "\n",
        "    if male_probability < female_probability:\n",
        "        misclassified_males += 1\n",
        "\n",
        "for height in female_height_series:\n",
        "    male_probability = norm.pdf(height, mean_male_height, std_male_height)\n",
        "    female_probability = norm.pdf(height, mean_female_height, std_female_height)\n",
        "\n",
        "    if male_probability > female_probability:\n",
        "        misclassified_females += 1\n",
        "\n",
        "print(f\"Males misclassified: {misclassified_males}\")\n",
        "print(f\"Females misclassified: {misclassified_females}\")\n"
      ],
      "metadata": {
        "colab": {
          "base_uri": "https://localhost:8080/"
        },
        "id": "CSe1F_FVN088",
        "outputId": "22fef971-3e71-4a36-9bf1-dfacb9dae6b2"
      },
      "execution_count": 43,
      "outputs": [
        {
          "output_type": "stream",
          "name": "stdout",
          "text": [
            "Males misclassified: 2\n",
            "Females misclassified: 3\n"
          ]
        }
      ]
    },
    {
      "cell_type": "code",
      "source": [
        "step_size = 0.5\n",
        "binned_male_heights = ((male_height_series / step_size).astype(int))\n",
        "binned_female_heights = ((female_height_series / step_size).astype(int))\n",
        "\n",
        "male_bin_frequencies = binned_male_heights.value_counts().sort_index()\n",
        "female_bin_frequencies = binned_female_heights.value_counts().sort_index()\n",
        "\n",
        "common_binned_values = set(binned_male_heights) & set(binned_female_heights)\n",
        "sorted_common_bins = pd.Series(list(common_binned_values)).sort_values()\n",
        "\n",
        "min_error_percentage = 100\n",
        "optimal_bin_value = 0\n",
        "\n",
        "for bin_value in sorted_common_bins:\n",
        "    male_bin_count = male_bin_frequencies.get(bin_value, 0)\n",
        "    female_bin_count = female_bin_frequencies.get(bin_value, 0)\n",
        "    current_error_percentage = ((male_bin_count + female_bin_count) * 100) / (2 * sample_size)\n",
        "\n",
        "    print(f\"Male count: {male_bin_count}, Female count: {female_bin_count}, \"\n",
        "          f\"Current error percentage: {current_error_percentage}% for bin {bin_value}\")\n",
        "\n",
        "    if current_error_percentage < min_error_percentage:\n",
        "        min_error_percentage = current_error_percentage\n",
        "        optimal_bin_value = bin_value\n",
        "\n",
        "print(f\"Bin {optimal_bin_value} is the best quantile where the error percentage is minimum: {min_error_percentage}%\")\n"
      ],
      "metadata": {
        "colab": {
          "base_uri": "https://localhost:8080/"
        },
        "id": "sFu-uL7tN0vx",
        "outputId": "b981d049-64e8-4497-ae4c-a8fab1e87443"
      },
      "execution_count": 47,
      "outputs": [
        {
          "output_type": "stream",
          "name": "stdout",
          "text": [
            "Male count: 1, Female count: 13, Current error percentage: 0.7% for bin 313\n",
            "Male count: 1, Female count: 5, Current error percentage: 0.3% for bin 317\n",
            "Male count: 3, Female count: 2, Current error percentage: 0.25% for bin 318\n",
            "Male count: 12, Female count: 1, Current error percentage: 0.65% for bin 322\n",
            "Bin 318 is the best quantile where the error percentage is minimum: 0.25%\n"
          ]
        }
      ]
    }
  ]
}